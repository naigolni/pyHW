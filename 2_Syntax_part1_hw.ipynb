{
 "cells": [
  {
   "cell_type": "markdown",
   "metadata": {},
   "source": [
    "# Базовая часть"
   ]
  },
  {
   "cell_type": "markdown",
   "metadata": {},
   "source": [
    "Рассмотрим задание 2 из лекции. При анализе отзывов на работу техподдержки вы считали массив из отзывов (для простоты отзыва приведено всего два, но могло быть и больше):"
   ]
  },
  {
   "cell_type": "code",
   "execution_count": 1,
   "metadata": {
    "collapsed": true
   },
   "outputs": [],
   "source": [
    "reviews = [\"\"\"Телефон абонента: +7 916 000 00 01\n",
    "Время: 10:34\n",
    "Дата: 20.05.2017\n",
    "Оценка: 1\n",
    "Длительность разговора (мин.): 0:32\n",
    "Комментарий: Общение с сотрудником вашей техподдержки мне не понравилось. Раньше всегда отвечала девушка с приятным голосом, а сегодня какой-то мужчина. Совсем никуда не годится, примите меры!!!\"\"\",\n",
    "\"\"\"Телефон абонента: +7 916 000 00 02\n",
    "Время: 9:20\n",
    "Дата: 21.05.2017\n",
    "Оценка: 5\n",
    "Длительность разговора (мин.): 25:07\n",
    "Комментарий: С моей проблемой мне помогли, большое спасибо!\"\"\"]"
   ]
  },
  {
   "cell_type": "markdown",
   "metadata": {},
   "source": [
    "Сформируйте на основе этого массива словарь my_base, в котором по ключу в виде строки с телефоном абонента будет храниться другой словарь. Внутренний словарь по ключам в виде названий полей отзыва должен хранить значение полей (в виде строк). Например, код ниже должен выдать True:"
   ]
  },
  {
   "cell_type": "code",
   "execution_count": null,
   "metadata": {
    "collapsed": true
   },
   "outputs": [],
   "source": [
    "my_base['+7 916 000 00 01']['Дата'] == '20.05.2017'"
   ]
  },
  {
   "cell_type": "code",
   "execution_count": 30,
   "metadata": {
    "collapsed": false
   },
   "outputs": [
    {
     "name": "stdout",
     "output_type": "stream",
     "text": [
      "20.05.2017\n"
     ]
    }
   ],
   "source": [
    "reviewsDict = dict(dict())\n",
    "\n",
    "for index in range(len(reviews)):\n",
    "    splittedReview = reviews[index].split('\\n')\n",
    "    revDict = dict()\n",
    "    revDict['Время'] = splittedReview[1].split(': ')[1]\n",
    "    revDict['Дата'] = splittedReview[2].split(': ')[1]\n",
    "    revDict['Оценка'] = splittedReview[3].split(': ')[1]\n",
    "    revDict['Длительность'] = splittedReview[4].split(': ')[1]\n",
    "    revDict['Комментарий'] = splittedReview[5].split(': ')[1]\n",
    "    reviewsDict[splittedReview[0].split(': ')[1]] = revDict\n",
    "    \n",
    "print reviewsDict['+7 916 000 00 01']['Дата']"
   ]
  },
  {
   "cell_type": "markdown",
   "metadata": {},
   "source": [
    "Обратите внимание, что вам могут немного мешать пробелы после знаков \":\""
   ]
  },
  {
   "cell_type": "markdown",
   "metadata": {},
   "source": [
    "# Продвинутая часть"
   ]
  },
  {
   "cell_type": "markdown",
   "metadata": {},
   "source": [
    "Попробуйте выполнить предыдущее задание, но теперь обеспечив хранение полей из отзыва в словаре в тех типах данных, которые на ваш взгляд наиболее уместны. Подумайте, что делать с датой и временем. Возможно вам покажется полезным немного воспользоваться поисковиком или документацией к Python, а может быть вам хватит стандартных типов данных.\n",
    "Объясните свой выбор в комментариях к коду или markdown ячейках и продемонстрируйте, что поля имеют нужный тип."
   ]
  },
  {
   "cell_type": "code",
   "execution_count": 47,
   "metadata": {
    "collapsed": false
   },
   "outputs": [
    {
     "name": "stdout",
     "output_type": "stream",
     "text": [
      "2017-05-20 10:34:00\n"
     ]
    }
   ],
   "source": [
    "import datetime\n",
    "from datetime import timedelta\n",
    "\n",
    "reviewsDict = dict(dict())\n",
    "\n",
    "for index in range(len(reviews)):\n",
    "    splittedReview = reviews[index].split('\\n')\n",
    "    revDict = dict()\n",
    "    duration = splittedReview[4].split(': ')[1].split(':')\n",
    "    DateTime = splittedReview[2].split(': ')[1] + ' ' + splittedReview[1].split(': ')[1]\n",
    "    \n",
    "    revDict['Время'] = datetime.datetime.strptime(DateTime, '%d.%m.%Y %H:%M')\n",
    "    revDict['Оценка'] = int(splittedReview[3].split(': ')[1])\n",
    "    revDict['Длительность'] = timedelta(hours=int(duration[0]),minutes=int(duration[1]))\n",
    "    revDict['Комментарий'] = splittedReview[5].split(': ')[1]\n",
    "    \n",
    "    reviewsDict[long(splittedReview[0].split(': ')[1].replace(\" \",\"\").replace(\"+\",\"\"))] = revDict\n",
    "    \n",
    "print reviewsDict[79160000001]['Время']"
   ]
  },
  {
   "cell_type": "markdown",
   "metadata": {},
   "source": [
    "телефонный номер как long, предполагая номера в данном контексте могут содержать только цифры зачем хранит цифры текстом. Плюс единообразная запись.\n",
    "\n",
    "Дата/время можно хранить одним полем с типом datetime. Вместо двух полей одно, плюс в этом случае появляется возможность использовать методы для работы с интервалами времени.\n",
    "\n",
    "Аналогичто с длительностью."
   ]
  },
  {
   "cell_type": "markdown",
   "metadata": {},
   "source": [
    "# Сложная часть"
   ]
  },
  {
   "cell_type": "markdown",
   "metadata": {},
   "source": [
    "На лекции было рассказано про неизменяемые типы, в частности про tuple. Подумайте, можно ли \"сломать\" неизменяемость tuple? Как сделать tuple изменяемым? Можно ли будет его добавить в множество или использовать в качестве ключа в словаре?"
   ]
  },
  {
   "cell_type": "code",
   "execution_count": 62,
   "metadata": {
    "collapsed": false
   },
   "outputs": [
    {
     "name": "stdout",
     "output_type": "stream",
     "text": [
      "([1], 2, 3)\n",
      "([99], 2, 3)\n"
     ]
    },
    {
     "ename": "TypeError",
     "evalue": "unhashable type: 'list'",
     "output_type": "error",
     "traceback": [
      "\u001b[0;31m---------------------------------------------------------------------------\u001b[0m",
      "\u001b[0;31mTypeError\u001b[0m                                 Traceback (most recent call last)",
      "\u001b[0;32m<ipython-input-62-77024490d0a3>\u001b[0m in \u001b[0;36m<module>\u001b[0;34m()\u001b[0m\n\u001b[1;32m      6\u001b[0m \u001b[0ma\u001b[0m\u001b[1;33m[\u001b[0m\u001b[1;36m0\u001b[0m\u001b[1;33m]\u001b[0m \u001b[1;33m=\u001b[0m \u001b[1;36m99\u001b[0m\u001b[1;33m\u001b[0m\u001b[0m\n\u001b[1;32m      7\u001b[0m \u001b[1;32mprint\u001b[0m \u001b[0mb\u001b[0m\u001b[1;33m\u001b[0m\u001b[0m\n\u001b[0;32m----> 8\u001b[0;31m \u001b[0md\u001b[0m \u001b[1;33m=\u001b[0m \u001b[1;33m{\u001b[0m\u001b[0mb\u001b[0m \u001b[1;33m:\u001b[0m \u001b[1;36m1\u001b[0m\u001b[1;33m}\u001b[0m\u001b[1;33m\u001b[0m\u001b[0m\n\u001b[0m",
      "\u001b[0;31mTypeError\u001b[0m: unhashable type: 'list'"
     ]
    }
   ],
   "source": [
    "#можно, если назначить элементом tuple изменяемый тип, например list:\n",
    "a = [1]\n",
    "b = (a, 2, 3)\n",
    "print b\n",
    "a[0] = 99\n",
    "print b\n",
    "#объект тот-же, но его значение изменено\n",
    "#но как ключ использовать не выйдет, т.к. внутри tuple 'b' находится нехэшируемый list 'a'\n",
    "d = {b : 1}"
   ]
  },
  {
   "cell_type": "code",
   "execution_count": null,
   "metadata": {
    "collapsed": true
   },
   "outputs": [],
   "source": []
  }
 ],
 "metadata": {
  "anaconda-cloud": {},
  "kernelspec": {
   "display_name": "Python 2",
   "language": "python",
   "name": "python2"
  },
  "language_info": {
   "codemirror_mode": {
    "name": "ipython",
    "version": 2
   },
   "file_extension": ".py",
   "mimetype": "text/x-python",
   "name": "python",
   "nbconvert_exporter": "python",
   "pygments_lexer": "ipython2",
   "version": "2.7.13"
  }
 },
 "nbformat": 4,
 "nbformat_minor": 1
}
